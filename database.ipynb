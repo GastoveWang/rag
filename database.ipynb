{
 "cells": [
  {
   "cell_type": "markdown",
   "metadata": {},
   "source": [
    "# Document Embedding & FAISS/SQLite Storage  \n",
    "# 檔案向量化與資料庫建構模組"
   ]
  },
  {
   "cell_type": "markdown",
   "metadata": {},
   "source": [
    "#### 1. 載入套件與設定"
   ]
  },
  {
   "cell_type": "code",
   "execution_count": 1,
   "metadata": {},
   "outputs": [],
   "source": [
    "import os\n",
    "import sqlite3\n",
    "import textract\n",
    "import re\n",
    "import json\n",
    "import numpy as np\n",
    "import faiss\n",
    "from docx import Document\n",
    "from langchain.text_splitter import RecursiveCharacterTextSplitter\n",
    "from sentence_transformers import SentenceTransformer"
   ]
  },
  {
   "cell_type": "markdown",
   "metadata": {},
   "source": [
    "#### 2. 基本參數設定"
   ]
  },
  {
   "cell_type": "code",
   "execution_count": 2,
   "metadata": {},
   "outputs": [],
   "source": [
    "DOCS_FOLDER = \"/Users/gastove/Documents/SuperGIS/meeting_data\"\n",
    "FAISS_INDEX_PATH = \"faiss_index.bin\"\n",
    "EMBEDDING_MODEL_NAME = 'Alibaba-NLP/gte-Qwen2-1.5B-instruct'"
   ]
  },
  {
   "cell_type": "markdown",
   "metadata": {},
   "source": [
    "#### 3. 清理文本"
   ]
  },
  {
   "cell_type": "code",
   "execution_count": 3,
   "metadata": {},
   "outputs": [],
   "source": [
    "def clean_text(text):\n",
    "    \"\"\"清理文本：移除多餘空白、換行、頁碼等\"\"\"\n",
    "    text = re.sub(r'\\s+', ' ', text).strip()\n",
    "    text = re.sub(r'Page \\d+', '', text, flags=re.IGNORECASE)\n",
    "    text = re.sub(r'第\\s*\\d+\\s*頁', '', text)\n",
    "    return text"
   ]
  },
  {
   "cell_type": "markdown",
   "metadata": {},
   "source": [
    "#### 4. 文件讀取與分段"
   ]
  },
  {
   "cell_type": "code",
   "execution_count": 4,
   "metadata": {},
   "outputs": [],
   "source": [
    "def load_and_split_documents(folder_path, chunk_size=600, chunk_overlap=250):\n",
    "    \"\"\"讀取並分段文件\"\"\"\n",
    "    segments, segment_files = [], []\n",
    "    text_splitter = RecursiveCharacterTextSplitter(\n",
    "        chunk_size=chunk_size, chunk_overlap=chunk_overlap)\n",
    "\n",
    "    for filename in os.listdir(folder_path):\n",
    "        if filename.lower().endswith((\".docx\", \".doc\")):\n",
    "            filepath = os.path.join(folder_path, filename)\n",
    "            full_text = \"\"\n",
    "\n",
    "            if filename.lower().endswith(\".docx\"):\n",
    "                try:\n",
    "                    doc = Document(filepath)\n",
    "                    full_text = \"\\n\".join(\n",
    "                        [para.text for para in doc.paragraphs if para.text.strip()])\n",
    "                except Exception as e:\n",
    "                    print(f\"讀取 {filename} 失敗: {e}\")\n",
    "                    continue\n",
    "            elif filename.lower().endswith(\".doc\"):\n",
    "                try:\n",
    "                    full_text = textract.process(filepath).decode(\"utf-8\")\n",
    "                except Exception as e:\n",
    "                    print(f\"讀取 {filename} 失敗: {e}\")\n",
    "                    continue\n",
    "\n",
    "            full_text = clean_text(full_text)\n",
    "            if full_text:\n",
    "                file_segments = text_splitter.split_text(full_text)\n",
    "                segments.extend(file_segments)\n",
    "                segment_files.extend([filename] * len(file_segments))\n",
    "\n",
    "    return segments, segment_files"
   ]
  },
  {
   "cell_type": "markdown",
   "metadata": {},
   "source": [
    "#### 5. 儲存文件至 SQLite"
   ]
  },
  {
   "cell_type": "code",
   "execution_count": 5,
   "metadata": {},
   "outputs": [],
   "source": [
    "def save_documents_to_db(cursor, documents, file_names):\n",
    "    \"\"\"存入 SQLite 資料庫\"\"\"\n",
    "    cursor.executemany('''\n",
    "        INSERT INTO documents (file_name, chunk_idx, content)\n",
    "        VALUES (?, ?, ?)\n",
    "    ''', [(file, idx, doc) for idx, (doc, file) in enumerate(zip(documents, file_names))])"
   ]
  },
  {
   "cell_type": "markdown",
   "metadata": {},
   "source": [
    "#### 6. 向量化並更新資料庫與 FAISS 索引"
   ]
  },
  {
   "cell_type": "code",
   "execution_count": 6,
   "metadata": {},
   "outputs": [],
   "source": [
    "def save_vectors_to_db(cursor, documents, file_names, vectors):\n",
    "    \"\"\"存向量至 SQLite，並更新 FAISS\"\"\"\n",
    "    vector_data = [\n",
    "        (file, idx, doc, json.dumps(vector.tolist()))\n",
    "        for idx, (doc, file, vector) in enumerate(zip(documents, file_names, vectors))\n",
    "    ]\n",
    "    cursor.executemany('''\n",
    "        INSERT INTO document_vectors (file_name, chunk_idx, content, vector)\n",
    "        VALUES (?, ?, ?, ?)\n",
    "    ''', vector_data)\n",
    "\n",
    "    # 更新 FAISS\n",
    "    vectors_np = np.array(vectors, dtype=np.float32)\n",
    "    if os.path.exists(FAISS_INDEX_PATH):\n",
    "        index = faiss.read_index(FAISS_INDEX_PATH)\n",
    "    else:\n",
    "        index = faiss.IndexFlatL2(len(vectors[0]))\n",
    "\n",
    "    index.add(vectors_np)\n",
    "    faiss.write_index(index, FAISS_INDEX_PATH)\n",
    "    print(f\"FAISS 索引已更新，共有 {index.ntotal} 筆向量。\")"
   ]
  },
  {
   "cell_type": "code",
   "execution_count": 7,
   "metadata": {},
   "outputs": [
    {
     "name": "stderr",
     "output_type": "stream",
     "text": [
      "Sliding Window Attention is enabled but not implemented for `sdpa`; unexpected results may be encountered.\n"
     ]
    },
    {
     "data": {
      "application/vnd.jupyter.widget-view+json": {
       "model_id": "90813e3c3326405f960f6e2e9aeb830a",
       "version_major": 2,
       "version_minor": 0
      },
      "text/plain": [
       "Loading checkpoint shards:   0%|          | 0/2 [00:00<?, ?it/s]"
      ]
     },
     "metadata": {},
     "output_type": "display_data"
    },
    {
     "data": {
      "application/vnd.jupyter.widget-view+json": {
       "model_id": "6af6c42bf1664edbb72c467b7939c345",
       "version_major": 2,
       "version_minor": 0
      },
      "text/plain": [
       "Batches:   0%|          | 0/1 [00:00<?, ?it/s]"
      ]
     },
     "metadata": {},
     "output_type": "display_data"
    },
    {
     "name": "stdout",
     "output_type": "stream",
     "text": [
      "FAISS 索引已更新，共有 14 筆向量。\n"
     ]
    }
   ],
   "source": [
    "def main():\n",
    "    conn = sqlite3.connect('documents.db')\n",
    "    cursor = conn.cursor()\n",
    "\n",
    "    cursor.execute('''\n",
    "        CREATE TABLE IF NOT EXISTS documents (\n",
    "            id INTEGER PRIMARY KEY AUTOINCREMENT,\n",
    "            file_name TEXT,\n",
    "            chunk_idx INTEGER,\n",
    "            content TEXT\n",
    "        )\n",
    "    ''')\n",
    "    cursor.execute('''\n",
    "        CREATE TABLE IF NOT EXISTS document_vectors (\n",
    "            id INTEGER PRIMARY KEY AUTOINCREMENT,\n",
    "            file_name TEXT,\n",
    "            chunk_idx INTEGER,\n",
    "            content TEXT,\n",
    "            vector TEXT\n",
    "        )\n",
    "    ''')\n",
    "    conn.commit()\n",
    "\n",
    "    documents, file_names = load_and_split_documents(DOCS_FOLDER)\n",
    "    if not documents:\n",
    "        raise ValueError(\"沒有讀取到任何文件\")\n",
    "\n",
    "    save_documents_to_db(cursor, documents, file_names)\n",
    "    conn.commit()\n",
    "\n",
    "    model = SentenceTransformer(EMBEDDING_MODEL_NAME)\n",
    "    vectors = model.encode(documents, show_progress_bar=True)\n",
    "\n",
    "    save_vectors_to_db(cursor, documents, file_names, vectors)\n",
    "    conn.commit()\n",
    "    conn.close()\n",
    "\n",
    "\n",
    "if __name__ == \"__main__\":\n",
    "    main()"
   ]
  }
 ],
 "metadata": {
  "kernelspec": {
   "display_name": "taide",
   "language": "python",
   "name": "python3"
  },
  "language_info": {
   "codemirror_mode": {
    "name": "ipython",
    "version": 3
   },
   "file_extension": ".py",
   "mimetype": "text/x-python",
   "name": "python",
   "nbconvert_exporter": "python",
   "pygments_lexer": "ipython3",
   "version": "3.10.0"
  }
 },
 "nbformat": 4,
 "nbformat_minor": 2
}
