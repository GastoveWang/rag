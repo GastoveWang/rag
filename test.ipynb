{
 "cells": [
  {
   "cell_type": "markdown",
   "metadata": {},
   "source": [
    "# RAG"
   ]
  },
  {
   "cell_type": "markdown",
   "metadata": {},
   "source": [
    "### Retriever"
   ]
  },
  {
   "cell_type": "markdown",
   "metadata": {},
   "source": [
    "檢索系統：FIASS、DPR"
   ]
  },
  {
   "cell_type": "markdown",
   "metadata": {},
   "source": [
    "### Generator"
   ]
  },
  {
   "cell_type": "code",
   "execution_count": 1,
   "metadata": {},
   "outputs": [],
   "source": [
    "import os\n",
    "os.environ[\"PYTORCH_MPS_HIGH_WATERMARK_RATIO\"] = \"0.0\" "
   ]
  },
  {
   "cell_type": "code",
   "execution_count": 2,
   "metadata": {},
   "outputs": [],
   "source": [
    "from transformers import pipeline\n",
    "import torch\n",
    "from IPython.display import display, Markdown"
   ]
  },
  {
   "cell_type": "code",
   "execution_count": 3,
   "metadata": {},
   "outputs": [
    {
     "data": {
      "application/vnd.jupyter.widget-view+json": {
       "model_id": "e4e368dff518407cafb9dea591c88d3d",
       "version_major": 2,
       "version_minor": 0
      },
      "text/plain": [
       "Loading checkpoint shards:   0%|          | 0/3 [00:00<?, ?it/s]"
      ]
     },
     "metadata": {},
     "output_type": "display_data"
    },
    {
     "name": "stderr",
     "output_type": "stream",
     "text": [
      "Device set to use mps\n"
     ]
    }
   ],
   "source": [
    "pipe = pipeline(\"text-generation\",\n",
    "                model=\"taide/TAIDE-LX-7B-Chat\",\n",
    "                torch_dtype=torch.bfloat16,\n",
    "                device_map=\"auto\",\n",
    "                return_full_text=False)"
   ]
  },
  {
   "cell_type": "code",
   "execution_count": 4,
   "metadata": {},
   "outputs": [],
   "source": [
    "# The history of the conversation\n",
    "conversation_history = []"
   ]
  },
  {
   "cell_type": "code",
   "execution_count": 5,
   "metadata": {},
   "outputs": [
    {
     "name": "stdout",
     "output_type": "stream",
     "text": [
      "開始對話 (輸入 'exit' 結束對話)：\n"
     ]
    },
    {
     "data": {
      "text/markdown": [
       "**User:** "
      ],
      "text/plain": [
       "<IPython.core.display.Markdown object>"
      ]
     },
     "metadata": {},
     "output_type": "display_data"
    },
    {
     "data": {
      "text/markdown": [
       "**Bot:**  由於我未曾收到您欲分享的訊息，若您能再行提供相關訊息或問題，我將樂意協助您解答。請告知您的問題或說明您想分享的訊息，我會竭力提供有用的資訊和協助。 "
      ],
      "text/plain": [
       "<IPython.core.display.Markdown object>"
      ]
     },
     "metadata": {},
     "output_type": "display_data"
    },
    {
     "data": {
      "text/markdown": [
       "**User:** 台灣在做GIS相關的公司"
      ],
      "text/plain": [
       "<IPython.core.display.Markdown object>"
      ]
     },
     "metadata": {},
     "output_type": "display_data"
    },
    {
     "data": {
      "text/markdown": [
       "**Bot:**  關於台灣從事GIS（Geographic Information System）相關業務的公司，目前主要有以下幾家知名企業：\n",
       "\n",
       "1. 中華電信（Chunghwa Telecom）：為台灣最大的電信業者之一，其GIS部門主要提供地段率、GPS定位、空間資料庫及地理資訊等服務，應用範圍包括電信網路管理、公共安全、交通運輸、環境保護等。\n",
       "2. 遠傳電信（FarEasTone Telecommunications）：另一家大型的電信業者，其GIS部門主要提供電信網路建設、維護與管理所需之地理資訊技術服務，也涵蓋了其他相關應用，如行動支付、物聯網等。\n",
       "3. 亞太電信（Asia Pacific Telecommunications）：亞太電信是臺灣一間專精於行動通信及資訊服務的公司，其GIS部門主要提供空間資料庫管理、定位技術、資訊整合等服務，應用範圍包含電信網路、電子商務、數位內容等。\n",
       "4. 臺灣電力公司（Taiwan Power Company）：臺電是臺灣主要電力供應公用事業之一，其GIS部門主要負責電力網路的建設、規劃、管理及調度，利用GIS技術提升電力供應的效率及可靠性。\n",
       "5. 國立中央大學（National Central University）：作為學術機構，中央大學在GIS領域上亦有很深的研究與發展，其GIS中心主要從事GIS理論、技術與應用的研究，並與政府部門、企業及學術界進行合作。\n",
       "6. 中華地理資訊學會（Geographical Information Society of China）：這是一個由專業人士組成的民間組織，主要從事GIS技術研究、交流與推廣，並積極參與國際學術活動，以促進國內GIS產業的發展。\n",
       "需注意的是，此名單僅列出幾家代表性的企業，實際上還有許多其他較小型的GIS相關企業"
      ],
      "text/plain": [
       "<IPython.core.display.Markdown object>"
      ]
     },
     "metadata": {},
     "output_type": "display_data"
    },
    {
     "data": {
      "text/markdown": [
       "**User:** 那你知道崧旭資訊嗎"
      ],
      "text/plain": [
       "<IPython.core.display.Markdown object>"
      ]
     },
     "metadata": {},
     "output_type": "display_data"
    },
    {
     "data": {
      "text/markdown": [
       "**Bot:**  根據我的資料，崧旭資訊（SunHua Information）成立於2003年，是臺灣一家專注於地理資訊系統（GIS）軟體、地圖製作、空間資料分析及視覺化的專業公司。該公司曾獲得「第13屆國家發明創作獎」殊榮，產品包括GIS套裝軟體、地圖繪製系統、網路地圖服務、空間資料倉儲與分析系統等。\n",
       "\n",
       "崧旭資訊主要為政府機關、企業及學術界提供GIS解決方案，應用範圍包括國土規劃、都市發展、環境保護、交通運輸、公共安全、電網管理、水利資源、礦業開發等領域。該公司亦積極參與國際合作與交流，希望提升臺灣在GIS領域的能見度與影響力。\n",
       "由於我所掌握的資訊只到2021年，因此若您想了解最新的發展情況，建議可進一步查閱該公司官方網站或最新新聞報導。 "
      ],
      "text/plain": [
       "<IPython.core.display.Markdown object>"
      ]
     },
     "metadata": {},
     "output_type": "display_data"
    },
    {
     "data": {
      "text/markdown": [
       "**User:** 那你還知道其他哪些相關行業的公司嗎"
      ],
      "text/plain": [
       "<IPython.core.display.Markdown object>"
      ]
     },
     "metadata": {},
     "output_type": "display_data"
    },
    {
     "data": {
      "text/markdown": [
       "**Bot:**  除了先前提到的公司，臺灣還有一些從事GIS相關業務的公司，例如：\n",
       "\n",
       "1. 雲豹資訊（Clouded Leopard Information）：成立於2004年，是一家以GIS技術為基礎的軟體公司。其產品包括GIS軟體套件、空間資料管理、地理資料查詢及分析系統等，主要應用於國土規劃、環境保護、交通運輸、公共安全等領域。\n",
       "2. 地誌科技（Geo-Spatial Technology）：成立於2005年，主要從事GIS技術在房地產、建築、電信等領域的應用。其產品及服務涵蓋不動產GIS、建築工程GIS、電信網路GIS等，可協助客戶進行市場分析、工程管理、設施規劃等。\n",
       "3. 博恩科技（PoinTech）：成立於2007年，是專精於GIS、遙感探測及空間資料分析的公司。產品及服務涵蓋國土規劃、都市發展、環境監測、水利資源管理等領域，並提供一站式服務，協助客戶進行資料整合、分析及視覺化。\n",
       "4. 寰球國際（Maps.com）：雖然不是臺灣本地公司，但其總部位於美國，在GIS及地圖技術方面有相當的實力。寰球國際主要提供數位地圖、衛星影像、GIS資料及地理空間解決方案，應用範圍包含導航、旅遊、物流、不動產、網路行銷等。\n",
       "這些公司在GIS領域都有不錯的表現，提供多樣化的服務與產品，可依據不同的需求找到合適的合作夥伴。然而，公司動態與細節可能隨時間而變動，建議您可進一步查閱各公司的官方網站以獲得最新資訊。 "
      ],
      "text/plain": [
       "<IPython.core.display.Markdown object>"
      ]
     },
     "metadata": {},
     "output_type": "display_data"
    },
    {
     "name": "stdout",
     "output_type": "stream",
     "text": [
      "對話結束。\n"
     ]
    }
   ],
   "source": [
    "print(\"開始對話 (輸入 'exit' 結束對話)：\")\n",
    "while True:\n",
    "    # 讀取使用者輸入\n",
    "    user_input = input(\"User: \")\n",
    "    if user_input.strip().lower() == \"exit\":\n",
    "        print(\"對話結束。\")\n",
    "        break\n",
    "\n",
    "    # 顯示用戶輸入在輸出欄\n",
    "    display(Markdown(f\"**User:** {user_input}\"))\n",
    "\n",
    "    conversation_history.append({\"role\": \"user\", \"content\": user_input})\n",
    "\n",
    "    if len(conversation_history) > 10:  # 5 組對話 * 2 條消息（user + assistant）\n",
    "        conversation_history.pop(0)  # 移除最舊的對話\n",
    "\n",
    "    # 使用模型內建的聊天模板來構造 prompt\n",
    "    prompt = pipe.tokenizer.apply_chat_template(\n",
    "        conversation_history, tokenize=False, add_generation_prompt=True\n",
    "    )\n",
    "    # 生成模型回應\n",
    "    output = pipe(\n",
    "        prompt,\n",
    "        max_new_tokens=400,  # 控制回應長度\n",
    "        do_sample=True,  # 隨機取樣：讓每次生成的回應不完全一樣\n",
    "        top_k=40,  # 限制候選詞：模型每次從k個最高機率的詞中選擇\n",
    "        top_p=0.85  # 控制多樣性：會從累積機率達p的候選詞中隨機選擇\n",
    "    )[0][\"generated_text\"]\n",
    "\n",
    "    conversation_history.append({\"role\": \"assistant\", \"content\": output})\n",
    "\n",
    "    display(Markdown(f\"**Bot:** {output}\"))"
   ]
  }
 ],
 "metadata": {
  "kernelspec": {
   "display_name": "taide",
   "language": "python",
   "name": "python3"
  },
  "language_info": {
   "codemirror_mode": {
    "name": "ipython",
    "version": 3
   },
   "file_extension": ".py",
   "mimetype": "text/x-python",
   "name": "python",
   "nbconvert_exporter": "python",
   "pygments_lexer": "ipython3",
   "version": "3.10.0"
  }
 },
 "nbformat": 4,
 "nbformat_minor": 2
}
